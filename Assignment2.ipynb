{
  "nbformat": 4,
  "nbformat_minor": 0,
  "metadata": {
    "colab": {
      "provenance": [],
      "authorship_tag": "ABX9TyO7Mr9JdKoBL2+Dxil1UhcA",
      "include_colab_link": true
    },
    "kernelspec": {
      "name": "python3",
      "display_name": "Python 3"
    },
    "language_info": {
      "name": "python"
    }
  },
  "cells": [
    {
      "cell_type": "markdown",
      "metadata": {
        "id": "view-in-github",
        "colab_type": "text"
      },
      "source": [
        "<a href=\"https://colab.research.google.com/github/ggttg/Python-/blob/main/Assignment2.ipynb\" target=\"_parent\"><img src=\"https://colab.research.google.com/assets/colab-badge.svg\" alt=\"Open In Colab\"/></a>"
      ]
    },
    {
      "cell_type": "code",
      "execution_count": null,
      "metadata": {
        "colab": {
          "base_uri": "https://localhost:8080/"
        },
        "id": "G7RzU2MiSZhj",
        "outputId": "c2428ba1-b3ab-4783-b834-bb8756cf7f53"
      },
      "outputs": [
        {
          "output_type": "stream",
          "name": "stdout",
          "text": [
            "Enter the marks:87\n",
            "grade A\n"
          ]
        }
      ],
      "source": [
        "Marks=int(input(\"Enter the marks:\"))\n",
        "if Marks<25:\n",
        "  print ('grade F')\n",
        "elif Marks >-25 and Marks <45:\n",
        "  print ('grade E')\n",
        "elif Marks >-45 and Marks <50:\n",
        "  print ('grade D')\n",
        "elif Marks >-50 and Marks <60:\n",
        "  print ('grade C')\n",
        "elif Marks >-60 and Marks <80:\n",
        "  print ('grade B')\n",
        "elif Marks >-80:\n",
        "  print ('grade A')\n"
      ]
    },
    {
      "cell_type": "code",
      "source": [
        "#creating an empty list\n",
        "list1 = []\n",
        "  \n",
        "# number of elements as input\n",
        "n = int(input(\"Enter number of elements : \"))\n",
        "  \n",
        "# iterating till the range\n",
        "for i in range(0, n):\n",
        "    ele = input()\n",
        "  \n",
        "    list1.append(ele) # adding the element\n",
        "      \n",
        "print(list1)\n",
        " \n",
        "# printing original list\n",
        "print(\"The original list : \" + str(list1))\n",
        "char_order = []\n",
        "ctr = {}\n",
        "print (char_order)\n",
        "print (ctr)\n",
        "\n",
        "\n"
      ],
      "metadata": {
        "id": "wZyjmgllWUTe",
        "colab": {
          "base_uri": "https://localhost:8080/"
        },
        "outputId": "28850106-80b3-4882-cc79-469d8a7fd74f"
      },
      "execution_count": null,
      "outputs": [
        {
          "output_type": "stream",
          "name": "stdout",
          "text": [
            "Enter number of elements : 2\n",
            "Anu\n",
            "Manu\n",
            "['Anu', 'Manu']\n",
            "The original list : ['Anu', 'Manu']\n",
            "[]\n",
            "{}\n"
          ]
        }
      ]
    },
    {
      "cell_type": "code",
      "source": [
        "length=input('Enter length')\n",
        "breadth=input('Enter breadth')\n",
        "if length==breadth:\n",
        "   print ('It is a square') \n",
        "else: \n",
        "    print ('It is a Rectangle')"
      ],
      "metadata": {
        "colab": {
          "base_uri": "https://localhost:8080/"
        },
        "id": "m7rsD2Lki8wX",
        "outputId": "9411932f-2540-4942-c296-975671f715cd"
      },
      "execution_count": null,
      "outputs": [
        {
          "output_type": "stream",
          "name": "stdout",
          "text": [
            "Enter length23\n",
            "Enter breadth23\n",
            "It is a square\n"
          ]
        }
      ]
    },
    {
      "cell_type": "code",
      "source": [
        "Name= input('Enter the name of the student')\n",
        "Attend=int(input('Enter the attendance classes'))\n",
        "Total=int(input('Enter total classes held'))\n",
        "Attendperc=float (Attend/Total)*100\n",
        "if Attendperc>=75:\n",
        "  print('Allowed to sit in class and percentage:',Attendperc)\n",
        "else:\n",
        "  print('Not allowed')\n"
      ],
      "metadata": {
        "id": "xuuLEOm-kmAM",
        "colab": {
          "base_uri": "https://localhost:8080/"
        },
        "outputId": "54dd90d4-01d5-4fb1-e4a6-ccc74e77f0b0"
      },
      "execution_count": null,
      "outputs": [
        {
          "output_type": "stream",
          "name": "stdout",
          "text": [
            "Enter the name of the studentAnu\n",
            "Enter the attendance classes34\n",
            "Enter total classes held40\n",
            "Allowed to sit in class and percentage: 85.0\n"
          ]
        }
      ]
    },
    {
      "cell_type": "code",
      "source": [
        "#creating an empty list\n",
        "list1 = []\n",
        "Even = [] \n",
        "Odd=[]\n",
        "sum=0\n",
        "# number of elements as input\n",
        "n = int(input(\"Enter number of elements : \"))\n",
        "  \n",
        "# iterating till the range\n",
        "for i in range(0, n):\n",
        "    ele = int(input())\n",
        "  \n",
        "    list1.append(ele) # adding the element\n",
        "    sum =sum + list1[i]\n",
        "    Evenno=list1[ele]/2\n",
        "    if Evenno==0:\n",
        "      Even = Even.append (list1[ele])\n",
        "    else:\n",
        "      Odd=Odd.append(list1[ele])\n",
        "\n",
        "\n",
        "\n",
        "print(list1,sum,Even,Odd)\n"
      ],
      "metadata": {
        "id": "MB5r3M9stPe6",
        "colab": {
          "base_uri": "https://localhost:8080/",
          "height": 269
        },
        "outputId": "335d4de4-33f0-473b-fd11-90c82d6c03a0"
      },
      "execution_count": 52,
      "outputs": [
        {
          "name": "stdout",
          "output_type": "stream",
          "text": [
            "Enter number of elements : 4\n",
            "2\n"
          ]
        },
        {
          "output_type": "error",
          "ename": "IndexError",
          "evalue": "ignored",
          "traceback": [
            "\u001b[0;31m---------------------------------------------------------------------------\u001b[0m",
            "\u001b[0;31mIndexError\u001b[0m                                Traceback (most recent call last)",
            "\u001b[0;32m<ipython-input-52-1380bc3b1e3a>\u001b[0m in \u001b[0;36m<module>\u001b[0;34m\u001b[0m\n\u001b[1;32m     13\u001b[0m     \u001b[0mlist1\u001b[0m\u001b[0;34m.\u001b[0m\u001b[0mappend\u001b[0m\u001b[0;34m(\u001b[0m\u001b[0mele\u001b[0m\u001b[0;34m)\u001b[0m \u001b[0;31m# adding the element\u001b[0m\u001b[0;34m\u001b[0m\u001b[0;34m\u001b[0m\u001b[0m\n\u001b[1;32m     14\u001b[0m     \u001b[0msum\u001b[0m \u001b[0;34m=\u001b[0m\u001b[0msum\u001b[0m \u001b[0;34m+\u001b[0m \u001b[0mlist1\u001b[0m\u001b[0;34m[\u001b[0m\u001b[0mi\u001b[0m\u001b[0;34m]\u001b[0m\u001b[0;34m\u001b[0m\u001b[0;34m\u001b[0m\u001b[0m\n\u001b[0;32m---> 15\u001b[0;31m     \u001b[0mEvenno\u001b[0m\u001b[0;34m=\u001b[0m\u001b[0mlist1\u001b[0m\u001b[0;34m[\u001b[0m\u001b[0mele\u001b[0m\u001b[0;34m]\u001b[0m\u001b[0;34m/\u001b[0m\u001b[0;36m2\u001b[0m\u001b[0;34m\u001b[0m\u001b[0;34m\u001b[0m\u001b[0m\n\u001b[0m\u001b[1;32m     16\u001b[0m     \u001b[0;32mif\u001b[0m \u001b[0mEvenno\u001b[0m\u001b[0;34m==\u001b[0m\u001b[0;36m0\u001b[0m\u001b[0;34m:\u001b[0m\u001b[0;34m\u001b[0m\u001b[0;34m\u001b[0m\u001b[0m\n\u001b[1;32m     17\u001b[0m       \u001b[0mEven\u001b[0m \u001b[0;34m=\u001b[0m \u001b[0mEven\u001b[0m\u001b[0;34m.\u001b[0m\u001b[0mappend\u001b[0m \u001b[0;34m(\u001b[0m\u001b[0mlist1\u001b[0m\u001b[0;34m[\u001b[0m\u001b[0mele\u001b[0m\u001b[0;34m]\u001b[0m\u001b[0;34m)\u001b[0m\u001b[0;34m\u001b[0m\u001b[0;34m\u001b[0m\u001b[0m\n",
            "\u001b[0;31mIndexError\u001b[0m: list index out of range"
          ]
        }
      ]
    }
  ]
}