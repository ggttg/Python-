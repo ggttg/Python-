{
  "nbformat": 4,
  "nbformat_minor": 0,
  "metadata": {
    "colab": {
      "provenance": [],
      "authorship_tag": "ABX9TyPLNQLHHVD2aNgaOQ5P98gS",
      "include_colab_link": true
    },
    "kernelspec": {
      "name": "python3",
      "display_name": "Python 3"
    },
    "language_info": {
      "name": "python"
    }
  },
  "cells": [
    {
      "cell_type": "markdown",
      "metadata": {
        "id": "view-in-github",
        "colab_type": "text"
      },
      "source": [
        "<a href=\"https://colab.research.google.com/github/ggttg/Python-/blob/main/Assignment1.ipynb\" target=\"_parent\"><img src=\"https://colab.research.google.com/assets/colab-badge.svg\" alt=\"Open In Colab\"/></a>"
      ]
    },
    {
      "cell_type": "code",
      "execution_count": null,
      "metadata": {
        "colab": {
          "base_uri": "https://localhost:8080/"
        },
        "id": "HpmBTqMIQI45",
        "outputId": "60e2da7b-b6c8-4e98-bba6-933b67caabbf"
      },
      "outputs": [
        {
          "output_type": "stream",
          "name": "stdout",
          "text": [
            "Enter the name Anu\n",
            "Enter the roll number 123\n",
            "Enter the marks98\n",
            "Name: Anu\n",
            "Roll Number: 123\n",
            "Marks: 98\n"
          ]
        }
      ],
      "source": [
        "name = input('Enter the name ')\n",
        "rollno = input('Enter the roll number ')\n",
        "marks = input('Enter the marks')\n",
        "print('Name:',name)c/5=f-32/9\n",
        "print('Roll Number:',rollno)\n",
        "print('Marks:',marks)"
      ]
    },
    {
      "cell_type": "code",
      "source": [
        "faren = float(input('Enter the temperature in farenheit'))\n",
        "celsius = (faren - 32) / 1.8\n",
        "print('Temperature in celsius:',celsius)\n"
      ],
      "metadata": {
        "colab": {
          "base_uri": "https://localhost:8080/"
        },
        "id": "R0ek-hs6WczW",
        "outputId": "46520593-1cd4-4ec4-a540-ebcb2fea17a4"
      },
      "execution_count": null,
      "outputs": [
        {
          "output_type": "stream",
          "name": "stdout",
          "text": [
            "Enter the temperature in farenheit98\n",
            "Temperature in celsius: 36.666666666666664\n"
          ]
        }
      ]
    },
    {
      "cell_type": "code",
      "source": [
        "a = int(input('Enter the first number'))\n",
        "b = int(input('Enter the second number'))\n",
        "print('Product of a and b:', a*b)"
      ],
      "metadata": {
        "colab": {
          "base_uri": "https://localhost:8080/"
        },
        "id": "B-S54avZjbTA",
        "outputId": "fa55e47f-2bad-4a09-e574-b52b4f95c205"
      },
      "execution_count": null,
      "outputs": [
        {
          "output_type": "stream",
          "name": "stdout",
          "text": [
            "Enter the first number12\n",
            "Enter the second number10\n",
            "Product of a and b: 120\n"
          ]
        }
      ]
    },
    {
      "cell_type": "code",
      "source": [
        "message ='“Learn Python by Developing a Website”'\n",
        "m1=message[0:6]\n",
        "m2=message[7:13]\n",
        "m3=message[14:29]\n",
        "m4=message[30:37]\n",
        "m5=message[37:38]\n",
        "print(m1,'**'+ m2,'**'+ m3,'**'+ m4,'**'+ m5)"
      ],
      "metadata": {
        "colab": {
          "base_uri": "https://localhost:8080/"
        },
        "id": "7dP8PqCEkxY3",
        "outputId": "eeb1f64f-5879-49b5-fc2c-8656557e6b2c"
      },
      "execution_count": null,
      "outputs": [
        {
          "output_type": "stream",
          "name": "stdout",
          "text": [
            "“Learn **Python **by Developing a **Website **”\n"
          ]
        }
      ]
    },
    {
      "cell_type": "code",
      "source": [
        "import math\n",
        "\n",
        "r = int(input('Enter the radius'))\n",
        "print('area = ',math.pi*r*r )\n"
      ],
      "metadata": {
        "colab": {
          "base_uri": "https://localhost:8080/"
        },
        "id": "EaiUJGAtsrzc",
        "outputId": "1065eef3-1d8a-4fa4-b478-968685700131"
      },
      "execution_count": 34,
      "outputs": [
        {
          "output_type": "stream",
          "name": "stdout",
          "text": [
            "Enter the radius2\n",
            "area =  12.566370614359172\n"
          ]
        }
      ]
    },
    {
      "cell_type": "code",
      "source": [
        "list1=[2,4,6,10]\n",
        "list1.insert(3,8)\n",
        "list1\n",
        "\n"
      ],
      "metadata": {
        "id": "UmxdTqeHqba3",
        "colab": {
          "base_uri": "https://localhost:8080/"
        },
        "outputId": "16390b64-6ab2-409f-8298-a2dae8f053ad"
      },
      "execution_count": 33,
      "outputs": [
        {
          "output_type": "execute_result",
          "data": {
            "text/plain": [
              "[2, 4, 6, 8, 10]"
            ]
          },
          "metadata": {},
          "execution_count": 33
        }
      ]
    },
    {
      "cell_type": "code",
      "source": [
        "dict1 = { \"name\": \"John\", \"age\":5, \"salary\": 8000, \"city\": \"New York\"}\n",
        "dict1['city'] = \"Kochi\"\n",
        "dict1"
      ],
      "metadata": {
        "id": "p-ZTyUcFjYCU",
        "colab": {
          "base_uri": "https://localhost:8080/"
        },
        "outputId": "a212cd41-1475-4bf6-a0db-a5f9df496111"
      },
      "execution_count": 36,
      "outputs": [
        {
          "output_type": "execute_result",
          "data": {
            "text/plain": [
              "{'name': 'John', 'age': 5, 'salary': 8000, 'city': 'Kochi'}"
            ]
          },
          "metadata": {},
          "execution_count": 36
        }
      ]
    },
    {
      "cell_type": "code",
      "source": [
        "dict = {\n",
        "'emp1': {'name': 'John', 'salary': 7500},\n",
        "'emp2': {'name': 'Emma', 'salary': 8000},\n",
        "'emp3': {'name': 'Brad', 'salary': 500}\n",
        "}\n",
        "dict['emp3']['salary']=8500\n",
        "dict"
      ],
      "metadata": {
        "id": "3rIhHsurWEUJ",
        "colab": {
          "base_uri": "https://localhost:8080/"
        },
        "outputId": "6449ea82-5ec7-4820-b86e-1e3a1fddd60b"
      },
      "execution_count": 38,
      "outputs": [
        {
          "output_type": "execute_result",
          "data": {
            "text/plain": [
              "{'emp1': {'name': 'John', 'salary': 7500},\n",
              " 'emp2': {'name': 'Emma', 'salary': 8000},\n",
              " 'emp3': {'name': 'Brad', 'salary': 8500}}"
            ]
          },
          "metadata": {},
          "execution_count": 38
        }
      ]
    }
  ]
}