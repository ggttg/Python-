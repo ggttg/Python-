{
  "nbformat": 4,
  "nbformat_minor": 0,
  "metadata": {
    "colab": {
      "provenance": [],
      "authorship_tag": "ABX9TyO3r5lB2y0AQNLfT80FLUtO",
      "include_colab_link": true
    },
    "kernelspec": {
      "name": "python3",
      "display_name": "Python 3"
    },
    "language_info": {
      "name": "python"
    }
  },
  "cells": [
    {
      "cell_type": "markdown",
      "metadata": {
        "id": "view-in-github",
        "colab_type": "text"
      },
      "source": [
        "<a href=\"https://colab.research.google.com/github/ggttg/Python-/blob/main/CaseStudy2.ipynb\" target=\"_parent\"><img src=\"https://colab.research.google.com/assets/colab-badge.svg\" alt=\"Open In Colab\"/></a>"
      ]
    },
    {
      "cell_type": "code",
      "source": [
        "List1 = input('Enter elements of a list separated by space ')\n",
        "print(\"\\n\")\n",
        "user_list = List1.split()\n",
        "# print list\n",
        "print('list: ', user_list)\n",
        "\n",
        "# convert each item to int type\n",
        "for i in range(len(user_list)):\n",
        "    # convert each item to int type\n",
        "    user_list[i] = int(user_list[i])\n",
        "\n",
        "# Calculating the sum of list elements\n",
        "print(\"Sum = \", sum(user_list))\n",
        " "
      ],
      "metadata": {
        "colab": {
          "base_uri": "https://localhost:8080/"
        },
        "id": "E7p02KSAVkZZ",
        "outputId": "6460334a-e13f-4643-eccb-0ea3e84d7273"
      },
      "execution_count": 6,
      "outputs": [
        {
          "output_type": "stream",
          "name": "stdout",
          "text": [
            "Enter elements of a list separated by space 20 10 30\n",
            "\n",
            "\n",
            "list:  ['20', '10', '30']\n",
            "Sum =  60\n"
          ]
        }
      ]
    },
    {
      "cell_type": "code",
      "source": [
        "# Check palindrom or not\n",
        " # reverse function \n",
        "def isPalindrome(s):\n",
        "    return s == s[::-1]\n",
        "  \n",
        "  \n",
        "\n",
        "s = input('Enter a string ')\n",
        "abc = isPalindrome(s)\n",
        "  \n",
        "if abc:\n",
        "    print(\"Yes\")\n",
        "else:\n",
        "    print(\"No\")"
      ],
      "metadata": {
        "colab": {
          "base_uri": "https://localhost:8080/"
        },
        "id": "xeSUe5wmfAwK",
        "outputId": "ee9da79c-0f7d-4c8c-8d3b-4f303c8f3932"
      },
      "execution_count": 13,
      "outputs": [
        {
          "output_type": "stream",
          "name": "stdout",
          "text": [
            "Enter a string wendo\n",
            "No\n"
          ]
        }
      ]
    },
    {
      "cell_type": "code",
      "source": [
        " #Python program to display the Fibonacci sequence\n",
        "\n",
        "def recur_fibo(n):\n",
        "   if n <= 1:\n",
        "       return n\n",
        "   else:\n",
        "       return(recur_fibo(n-1) + recur_fibo(n-2))\n",
        "\n",
        "nterms = int(input('Enter the limit of fibinocci series '))\n",
        "\n",
        "# check if the number of terms is valid\n",
        "if nterms <= 0:\n",
        "   print(\"Plese enter a positive integer\")\n",
        "else:\n",
        "   print(\"Fibonacci sequence:\")\n",
        "   for i in range(nterms):\n",
        "       print(recur_fibo(i))"
      ],
      "metadata": {
        "colab": {
          "base_uri": "https://localhost:8080/"
        },
        "id": "BWMu7GnxgnqL",
        "outputId": "92f866c4-4f2b-4fce-d071-615b8beba63a"
      },
      "execution_count": 16,
      "outputs": [
        {
          "output_type": "stream",
          "name": "stdout",
          "text": [
            "Enter the limit of fibinocci series 10\n",
            "Fibonacci sequence:\n",
            "0\n",
            "1\n",
            "1\n",
            "2\n",
            "3\n",
            "5\n",
            "8\n",
            "13\n",
            "21\n",
            "34\n"
          ]
        }
      ]
    },
    {
      "cell_type": "code",
      "source": [
        "#Multiplication Table\n",
        "def mul_table(n, i):\n",
        "    if(i>10):\n",
        "        return\n",
        "    print(n, \"*\", i, \"=\", n*i)\n",
        "    return mul_table(n, i+1)\n",
        "\n",
        "print(\"Enter the Number: \")\n",
        "num = int(input())\n",
        "print(\"\\nTable of\", num, \"is:\")\n",
        "mul_table(num, 1)"
      ],
      "metadata": {
        "colab": {
          "base_uri": "https://localhost:8080/"
        },
        "id": "a0dNYuQeikWh",
        "outputId": "6976737a-6c9a-48e1-80a9-0db1cbee39ed"
      },
      "execution_count": 18,
      "outputs": [
        {
          "output_type": "stream",
          "name": "stdout",
          "text": [
            "Enter the Number: \n",
            "5\n",
            "\n",
            "Table of 5 is:\n",
            "5 * 1 = 5\n",
            "5 * 2 = 10\n",
            "5 * 3 = 15\n",
            "5 * 4 = 20\n",
            "5 * 5 = 25\n",
            "5 * 6 = 30\n",
            "5 * 7 = 35\n",
            "5 * 8 = 40\n",
            "5 * 9 = 45\n",
            "5 * 10 = 50\n"
          ]
        }
      ]
    },
    {
      "cell_type": "code",
      "source": [
        "#a function which counts vowels and consonant in a word.\n",
        "word = input(\"Please Enter Your Own String : \")\n",
        "vowels = 0\n",
        "consonants = 0\n",
        "\n",
        "for i in word:\n",
        "    if(i == 'a' or i == 'e' or i == 'i' or i == 'o' or i == 'u'\n",
        "       or i == 'A' or i == 'E' or i == 'I' or i == 'O' or i == 'U'):\n",
        "        vowels = vowels + 1\n",
        "    else:\n",
        "        consonants = consonants + 1\n",
        " \n",
        "print(\"Total Number of Vowels in this String = \", vowels)\n",
        "print(\"Total Number of Consonants in this String = \", consonants)"
      ],
      "metadata": {
        "colab": {
          "base_uri": "https://localhost:8080/"
        },
        "id": "KIgkxBZWldmj",
        "outputId": "dec6fb84-b89b-46ab-f508-e5da3f04661f"
      },
      "execution_count": 20,
      "outputs": [
        {
          "output_type": "stream",
          "name": "stdout",
          "text": [
            "Please Enter Your Own String : How are You\n",
            "Total Number of Vowels in this String =  5\n",
            "Total Number of Consonants in this String =  6\n"
          ]
        }
      ]
    },
    {
      "cell_type": "code",
      "source": [
        "#a function that accepts lowercase words and returns uppercase words\n",
        "\n",
        "def LowertoUpper(words):\n",
        "    return words.upper()\n",
        "\n",
        "print(\"Enter String: \", end=\"\")\n",
        "text = input()\n",
        "\n",
        "text = LowertoUpper(text)\n",
        "print(\"\\nIts Uppercase:\", text)"
      ],
      "metadata": {
        "colab": {
          "base_uri": "https://localhost:8080/"
        },
        "id": "VdzDUnyemca3",
        "outputId": "a2b7d8f6-fa92-40ad-db12-2e0899cc478a"
      },
      "execution_count": 25,
      "outputs": [
        {
          "output_type": "stream",
          "name": "stdout",
          "text": [
            "Enter String: asdf nmop\n",
            "\n",
            "Its Uppercase: ASDF NMOP\n"
          ]
        }
      ]
    },
    {
      "cell_type": "code",
      "source": [
        "#a Python program to remove ‘None’ values from a given list using the lambda function.\n",
        "def rem_none(nums):\n",
        "    result = filter(lambda v: v is not None, nums)\n",
        "    return list(result)\n",
        "\n",
        "nums = [ 23, 0, None, -34, 980, None, 50, -71, None]\n",
        "print(\"Original list:\")\n",
        "print(nums)\n",
        "print(\"\\nRemove None value from the said list:\")\n",
        "print(rem_none(nums))"
      ],
      "metadata": {
        "colab": {
          "base_uri": "https://localhost:8080/"
        },
        "id": "UhgjoLayrFX6",
        "outputId": "ae806417-24b8-417b-8d77-fdbae4629d54"
      },
      "execution_count": 27,
      "outputs": [
        {
          "output_type": "stream",
          "name": "stdout",
          "text": [
            "Original list:\n",
            "[23, 0, None, -34, 980, None, 50, -71, None]\n",
            "\n",
            "Remove None value from the said list:\n",
            "[23, 0, -34, 980, 50, -71]\n"
          ]
        }
      ]
    },
    {
      "cell_type": "code",
      "source": [],
      "metadata": {
        "id": "duopdl5ssfzE"
      },
      "execution_count": null,
      "outputs": []
    },
    {
      "cell_type": "code",
      "source": [
        "# Class Rectangle with perimeter, area, display method and class parallelopipede \n",
        "class Rectangle:\n",
        "    # define constructor with attributes: length and width \n",
        "    def __init__(self, length , width):\n",
        "        self.length = length\n",
        "        self.width = width\n",
        "        \n",
        "    # Create Perimeter method\n",
        "    def Perimeter(self):\n",
        "        return 2*(self.length + self.width)\n",
        "    \n",
        "    # Create area method\n",
        "    def Area(self):\n",
        "        return self.length*self.width   \n",
        "    \n",
        "    # create display method\n",
        "    def display(self):\n",
        "        print(\"The length of rectangle is: \", self.length)\n",
        "        print(\"The width of rectangle is: \", self.width)\n",
        "        print(\"The perimeter of rectangle is: \", self.Perimeter())\n",
        "        print(\"The area of rectangle is: \", self.Area())\n",
        "class Parallelepipede(Rectangle):\n",
        "    def __init__(self, length, width , height):\n",
        "        Rectangle.__init__(self, length, width)\n",
        "        self.height = height\n",
        "        \n",
        "    # define Volume method\n",
        "    def volume(self):\n",
        "        return self.length*self.width*self.height\n",
        "L=int(input('Enter the length:'))   \n",
        "B=int(input('Enter the breadth:'))  \n",
        "H=int(input('Enter the height:'))     \n",
        "myRectangle = Rectangle(L,B)\n",
        "myRectangle.display()\n",
        "print(\"----------------------------------\")\n",
        "myParallelepipede = Parallelepipede(L, B, 2)\n",
        "print(\"the volume of myParallelepipede is: \" , myParallelepipede.volume())"
      ],
      "metadata": {
        "colab": {
          "base_uri": "https://localhost:8080/"
        },
        "id": "SLEbJQhGuI0i",
        "outputId": "0af612cb-c798-4cb8-a235-1d37ce2e7edb"
      },
      "execution_count": 35,
      "outputs": [
        {
          "output_type": "stream",
          "name": "stdout",
          "text": [
            "Enter the length:10\n",
            "Enter the breadth:5\n",
            "Enter the height:2\n",
            "The length of rectangle is:  10\n",
            "The width of rectangle is:  5\n",
            "The perimeter of rectangle is:  30\n",
            "The area of rectangle is:  50\n",
            "----------------------------------\n",
            "the volume of myParallelepipede is:  100\n"
          ]
        }
      ]
    },
    {
      "cell_type": "code",
      "source": [
        "# Program on Banking\n",
        "class BankAccount:\n",
        "    # create the constuctor with parameters: accountNumber, name and balance \n",
        "    def __init__(self,accountNumber, name, balance):\n",
        "        self.accountNumber = accountNumber\n",
        "        self.name = name\n",
        "        self.balance = balance\n",
        "        \n",
        "    # create Deposit() method\n",
        "    def Deposit(self , d ):\n",
        "        self.balance = self.balance + d\n",
        "    \n",
        "    # create Withdrawal method\n",
        "    def Withdrawal(self , w):\n",
        "        if(self.balance < w):\n",
        "            print(\"impossible operation! Insufficient balance !\")\n",
        "        else:\n",
        "            self.balance = self.balance - w\n",
        "    # create bankFees() method\n",
        "    def bankFees(self):\n",
        "        self.balance = (95/100)*self.balance\n",
        "        \n",
        "    # create display() method\n",
        "    def display(self):\n",
        "        print(\"Account Number : \" , self.accountNumber)\n",
        "        print(\"Account Name : \" , self.name)\n",
        "        print(\"Account Balance : \" , self.balance , \" $\")\n",
        "        \n",
        "ACNO=int(input('Enter the account number: '))\n",
        "Customer_Name=input('Enter the customer name: ')\n",
        "Bal=int(input('Enter the balance: '))\n",
        "\n",
        "newAccount = BankAccount( ACNO, Customer_Name, Bal)\n",
        "# Creating Withdrawal Test\n",
        "newAccount.Withdrawal(300)\n",
        "# Create deposit test\n",
        "newAccount.Deposit(200)\n",
        "# Display account informations\n",
        "newAccount.display() "
      ],
      "metadata": {
        "colab": {
          "base_uri": "https://localhost:8080/"
        },
        "id": "shyOjTfl0GF7",
        "outputId": "a2874734-2b24-4a73-9524-25efef68c702"
      },
      "execution_count": 37,
      "outputs": [
        {
          "output_type": "stream",
          "name": "stdout",
          "text": [
            "Enter the account number: 12344567890\n",
            "Enter the customer name: Eliza George\n",
            "Enter the balance: 98765\n",
            "Account Number :  12344567890\n",
            "Account Name :  Eliza George\n",
            "Account Balance :  98665  $\n"
          ]
        }
      ]
    },
    {
      "cell_type": "code",
      "source": [
        "#Saved as .py file\n",
        "class Rectangle:\n",
        "    # define constructor with attributes: length and width \n",
        "    def __init__(self, length , width):\n",
        "        self.length = length\n",
        "        self.width = width\n",
        "        \n",
        "    # Create Perimeter method\n",
        "    def Perimeter(self):\n",
        "        return 2*(self.length + self.width)\n",
        "    \n",
        "    # Create area method\n",
        "    def Area(self):\n",
        "        return self.length*self.width   \n",
        "newRectangle = Rectangle(12, 10)\n",
        "print(newRectangle.Area())"
      ],
      "metadata": {
        "colab": {
          "base_uri": "https://localhost:8080/"
        },
        "id": "hRpROpS32Reo",
        "outputId": "cc52189b-9de5-46b7-d886-dd180272784e"
      },
      "execution_count": 39,
      "outputs": [
        {
          "output_type": "stream",
          "name": "stdout",
          "text": [
            "120\n"
          ]
        }
      ]
    },
    {
      "cell_type": "code",
      "source": [
        "#import rectangle.py\n",
        "from rectangle import Rectangle\n",
        "class Parallelepipede(Rectangle):\n",
        "    def __init__(self, length, width , height):\n",
        "        Rectangle.__init__(self, length, width)\n",
        "        self.height = height\n",
        "        \n",
        "    # define Volume method\n",
        "    def volume(self):\n",
        "        return self.length*self.width*self.height\n",
        "L=int(input('Enter the length:'))   \n",
        "B=int(input('Enter the breadth:'))  \n",
        "H=int(input('Enter the height:'))     \n",
        "myRectangle = Rectangle(L,B)\n",
        "myRectangle.display()\n",
        "print(\"----------------------------------\")\n",
        "myParallelepipede = Parallelepipede(L, B, 2)\n",
        "print(\"the volume of myParallelepipede is: \" , myParallelepipede.volume())"
      ],
      "metadata": {
        "id": "OiSL4AVz5Gbw"
      },
      "execution_count": null,
      "outputs": []
    }
  ]
}